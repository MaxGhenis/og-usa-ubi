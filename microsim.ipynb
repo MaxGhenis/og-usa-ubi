{
 "metadata": {
  "language_info": {
   "codemirror_mode": {
    "name": "ipython",
    "version": 3
   },
   "file_extension": ".py",
   "mimetype": "text/x-python",
   "name": "python",
   "nbconvert_exporter": "python",
   "pygments_lexer": "ipython3",
   "version": "3.7.7"
  },
  "orig_nbformat": 2,
  "kernelspec": {
   "name": "python377jvsc74a57bd04a68920d8e8856d089b03c157a7384bba62e0986489c1fa381bbe538cda0922c",
   "display_name": "Python 3.7.7 64-bit ('base': conda)"
  }
 },
 "nbformat": 4,
 "nbformat_minor": 2,
 "cells": [
  {
   "cell_type": "code",
   "execution_count": 1,
   "metadata": {},
   "outputs": [],
   "source": [
    "import pandas as pd\n",
    "from taxbrain import TaxBrain, differences_plot, distribution_plot"
   ]
  },
  {
   "cell_type": "code",
   "execution_count": 2,
   "metadata": {},
   "outputs": [],
   "source": [
    "puf = pd.read_csv(\"~/puf.csv\")"
   ]
  },
  {
   "cell_type": "code",
   "execution_count": 3,
   "metadata": {},
   "outputs": [],
   "source": [
    "# Use the Medicare payroll tax since uncapped.\n",
    "FICA_MC_BASE = 0.029\n",
    "YEAR = 2022\n",
    "UBI_REFORM = {\"UBI_21\": 6000, \"UBI_1820\": 6000, \"UBI_ecrt\": 1}\n",
    "reform_1pct = UBI_REFORM.copy()\n",
    "reform_1pct[\"FICA_mc_trt\"] = FICA_MC_BASE + 0.01\n",
    "tb_1pct = TaxBrain(YEAR, YEAR, microdata=puf, reform=reform_1pct)\n",
    "tb_1pct.run()"
   ]
  },
  {
   "cell_type": "code",
   "execution_count": 4,
   "metadata": {},
   "outputs": [
    {
     "output_type": "execute_result",
     "data": {
      "text/plain": [
       "2022    95.018251\n",
       "Name: Difference, dtype: float64"
      ]
     },
     "metadata": {},
     "execution_count": 4
    }
   ],
   "source": [
    "def rev(tb):\n",
    "    return tb.weighted_totals(\"combined\").loc[\"Difference\"]\n",
    "\n",
    "rev_per_1pct = rev(tb_1pct)\n",
    "rev_per_1pct / 1e9"
   ]
  },
  {
   "cell_type": "code",
   "execution_count": 5,
   "metadata": {},
   "outputs": [
    {
     "output_type": "execute_result",
     "data": {
      "text/plain": [
       "1434.96514062"
      ]
     },
     "metadata": {},
     "execution_count": 5
    }
   ],
   "source": [
    "UBI = 6000\n",
    "ubi_cost = (tb_1pct.microdata[[\"n1820\", \"n21\"]].sum(axis=1) * tb_1pct.microdata.s006 / 100).sum() * UBI\n",
    "ubi_cost / 1e9"
   ]
  },
  {
   "cell_type": "code",
   "execution_count": 6,
   "metadata": {},
   "outputs": [
    {
     "output_type": "execute_result",
     "data": {
      "text/plain": [
       "2022    15.1\n",
       "Name: Difference, dtype: float64"
      ]
     },
     "metadata": {},
     "execution_count": 6
    }
   ],
   "source": [
    "needed_payroll_tax = (ubi_cost / rev_per_1pct).round(1)\n",
    "needed_payroll_tax"
   ]
  },
  {
   "cell_type": "code",
   "execution_count": 7,
   "metadata": {},
   "outputs": [],
   "source": [
    "# Budget-neutral\n",
    "reform_bn_static = UBI_REFORM.copy()\n",
    "reform_bn_static[\"FICA_mc_trt\"] = FICA_MC_BASE + (needed_payroll_tax / 100)\n",
    "tb_bn_static = TaxBrain(YEAR, YEAR, microdata=puf, reform=reform_bn_static)\n",
    "tb_bn_static.run()"
   ]
  },
  {
   "cell_type": "code",
   "execution_count": 8,
   "metadata": {},
   "outputs": [
    {
     "output_type": "execute_result",
     "data": {
      "text/plain": [
       "2022    0.996812\n",
       "Name: Difference, dtype: float64"
      ]
     },
     "metadata": {},
     "execution_count": 8
    }
   ],
   "source": [
    "# Should be close to 1.\n",
    "rev(tb_bn_static) / ubi_cost"
   ]
  },
  {
   "cell_type": "code",
   "execution_count": 9,
   "metadata": {},
   "outputs": [],
   "source": [
    "# Budget-neutral with behavioral responses.\n",
    "# Based on CBO (2012).\n",
    "BEHAVIOR = {\"sub\": 0.25, \"inc\": -0.05}\n",
    "reform_bn_beh = UBI_REFORM.copy()\n",
    "reform_bn_beh[\"FICA_mc_trt\"] = FICA_MC_BASE + 0.171\n",
    "tb_bn_beh = TaxBrain(YEAR, YEAR, microdata=puf, reform=reform_bn_beh,\n",
    "                     behavior=BEHAVIOR)\n",
    "tb_bn_beh.run()"
   ]
  },
  {
   "cell_type": "code",
   "execution_count": 10,
   "metadata": {},
   "outputs": [
    {
     "output_type": "execute_result",
     "data": {
      "text/plain": [
       "2022    0.998973\n",
       "Name: Difference, dtype: float64"
      ]
     },
     "metadata": {},
     "execution_count": 10
    }
   ],
   "source": [
    "# Should be close to 1.\n",
    "rev(tb_bn_beh) / ubi_cost"
   ]
  }
 ]
}