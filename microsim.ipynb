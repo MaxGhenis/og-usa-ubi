{
 "metadata": {
  "language_info": {
   "codemirror_mode": {
    "name": "ipython",
    "version": 3
   },
   "file_extension": ".py",
   "mimetype": "text/x-python",
   "name": "python",
   "nbconvert_exporter": "python",
   "pygments_lexer": "ipython3",
   "version": "3.7.7"
  },
  "orig_nbformat": 2,
  "kernelspec": {
   "name": "python377jvsc74a57bd04a68920d8e8856d089b03c157a7384bba62e0986489c1fa381bbe538cda0922c",
   "display_name": "Python 3.7.7 64-bit ('base': conda)"
  }
 },
 "nbformat": 4,
 "nbformat_minor": 2,
 "cells": [
  {
   "cell_type": "code",
   "execution_count": 6,
   "metadata": {},
   "outputs": [],
   "source": [
    "import pandas as pd\n",
    "from taxbrain import TaxBrain, differences_plot, distribution_plot\n"
   ]
  },
  {
   "cell_type": "code",
   "execution_count": 7,
   "metadata": {},
   "outputs": [],
   "source": [
    "puf = pd.read_csv(\"~/puf.csv\")"
   ]
  },
  {
   "cell_type": "code",
   "execution_count": 30,
   "metadata": {},
   "outputs": [],
   "source": [
    "FICA_BASE = 0.124\n",
    "tb_1pct = TaxBrain(2021, 2021, microdata=puf, reform={\"FICA_ss_trt\": FICA_BASE + 0.01, \"UBI_21\": 6000, \"UBI_ecrt\": 1})\n",
    "tb_1pct.run()"
   ]
  },
  {
   "cell_type": "code",
   "execution_count": 31,
   "metadata": {},
   "outputs": [],
   "source": [
    "rev_per_1pct = tb_1pct.weighted_totals(\"combined\").loc[\"Difference\"]"
   ]
  },
  {
   "cell_type": "code",
   "execution_count": 32,
   "metadata": {},
   "outputs": [
    {
     "output_type": "execute_result",
     "data": {
      "text/plain": [
       "1434.96514062"
      ]
     },
     "metadata": {},
     "execution_count": 32
    }
   ],
   "source": [
    "UBI = 6000\n",
    "ubi_cost = (tb_static.microdata[[\"n1820\", \"n21\"]].sum(axis=1) * tb_static.microdata.s006 / 100).sum() * UBI\n",
    "ubi_cost / 1e9"
   ]
  },
  {
   "cell_type": "code",
   "execution_count": 37,
   "metadata": {},
   "outputs": [
    {
     "output_type": "execute_result",
     "data": {
      "text/plain": [
       "2021    19.0\n",
       "Name: Difference, dtype: float64"
      ]
     },
     "metadata": {},
     "execution_count": 37
    }
   ],
   "source": [
    "needed_payroll_tax = (ubi_cost / rev_per_1pct).round(1)\n",
    "needed_payroll_tax"
   ]
  },
  {
   "cell_type": "code",
   "execution_count": 38,
   "metadata": {},
   "outputs": [],
   "source": [
    "\n",
    "# Budget-neutral\n",
    "tb_bn = TaxBrain(2021, 2021, microdata=puf, reform={\"FICA_ss_trt\": FICA_BASE + needed_payroll_tax / 100, \"UBI_21\": 6000, \"UBI_ecrt\": 1})\n",
    "tb_bn.run()"
   ]
  },
  {
   "cell_type": "code",
   "execution_count": 39,
   "metadata": {},
   "outputs": [
    {
     "output_type": "execute_result",
     "data": {
      "text/plain": [
       "2021    0.994784\n",
       "Name: Difference, dtype: float64"
      ]
     },
     "metadata": {},
     "execution_count": 39
    }
   ],
   "source": [
    "tb_bn.weighted_totals(\"combined\").loc[\"Difference\"] / ubi_cost"
   ]
  },
  {
   "cell_type": "code",
   "execution_count": null,
   "metadata": {},
   "outputs": [],
   "source": [
    "# Remove the cap\n",
    "FICA_BASE = 0.124\n",
    "tb_1pct = TaxBrain(2021, 2021, microdata=puf, reform={\"FICA_ss_trt\": FICA_BASE + 0.01, \"UBI_21\": 6000, \"UBI_ecrt\": 1})\n",
    "tb_1pct.run()"
   ]
  }
 ]
}